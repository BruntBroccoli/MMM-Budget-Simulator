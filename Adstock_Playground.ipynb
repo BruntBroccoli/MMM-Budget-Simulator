{
 "cells": [
  {
   "cell_type": "code",
   "execution_count": 11,
   "id": "e071761b-4807-43b3-835c-e8ebc13b66f1",
   "metadata": {},
   "outputs": [
    {
     "name": "stdout",
     "output_type": "stream",
     "text": [
      "Week\tSpend\tTotal Adstock\tCarryover Only\n",
      "1\t100\t0\t\t100\n",
      "2\t100\t50.0\t\t150.0\n",
      "3\t100\t75.0\t\t175.0\n",
      "4\t100\t87.5\t\t187.5\n",
      "5\t100\t93.75\t\t193.75\n",
      "6\t100\t96.88\t\t196.88\n",
      "7\t100\t98.44\t\t198.44\n",
      "8\t100\t99.22\t\t199.22\n",
      "9\t100\t99.61\t\t199.61\n",
      "10\t100\t99.8\t\t199.8\n",
      "11\t100\t99.9\t\t199.9\n",
      "12\t100\t99.95\t\t199.95\n",
      "13\t100\t99.98\t\t199.98\n",
      "14\t100\t99.99\t\t199.99\n",
      "15\t100\t99.99\t\t199.99\n",
      "16\t100\t100.0\t\t200.0\n",
      "17\t100\t100.0\t\t200.0\n",
      "18\t100\t100.0\t\t200.0\n",
      "19\t100\t100.0\t\t200.0\n",
      "20\t100\t100.0\t\t200.0\n",
      "21\t100\t100.0\t\t200.0\n",
      "22\t100\t100.0\t\t200.0\n",
      "23\t100\t100.0\t\t200.0\n",
      "24\t100\t100.0\t\t200.0\n",
      "25\t100\t100.0\t\t200.0\n",
      "26\t100\t100.0\t\t200.0\n",
      "27\t100\t100.0\t\t200.0\n",
      "28\t100\t100.0\t\t200.0\n",
      "29\t100\t100.0\t\t200.0\n",
      "30\t100\t100.0\t\t200.0\n"
     ]
    }
   ],
   "source": [
    "def adstock_transform(spend, decay):\n",
    "    adstock = []\n",
    "    for i, val in enumerate(spend):\n",
    "        if i == 0:\n",
    "            adstock.append(val)\n",
    "        else:\n",
    "            adstock.append(val + decay * adstock[i-1])\n",
    "    return adstock\n",
    "\n",
    "def adstock_carryover_only(spend, decay):\n",
    "    \"\"\"Returns only the carryover adstock effect (excluding current period spend)\"\"\"\n",
    "    carryover = []\n",
    "    for i, val in enumerate(spend):\n",
    "        if i == 0:\n",
    "            carryover.append(0)  # No carryover for first period\n",
    "        else:\n",
    "            # Only the decayed carryover from previous period, no current spend added\n",
    "            carryover.append(decay * (carryover[i-1] + spend[i-1]))\n",
    "    return carryover\n",
    "\n",
    "# Try different spends and decays\n",
    "weekly_spend = [100] * 30  # $100 every week\n",
    "decay_rate = 0.5\n",
    "adstock_values = adstock_transform(weekly_spend, decay_rate)\n",
    "adstock_carryover_values = adstock_carryover_only(weekly_spend, decay_rate)\n",
    "\n",
    "# Print week-by-week breakdown\n",
    "print(\"Week\\tSpend\\tTotal Adstock\\tCarryover Only\")\n",
    "for i in range(len(weekly_spend)):\n",
    "    print(f\"{i+1}\\t{weekly_spend[i]}\\t{round(adstock_carryover_values[i], 2)}\\t\\t{round(adstock_values[i], 2)}\")"
   ]
  }
 ],
 "metadata": {
  "kernelspec": {
   "display_name": "Python 3 (ipykernel)",
   "language": "python",
   "name": "python3"
  },
  "language_info": {
   "codemirror_mode": {
    "name": "ipython",
    "version": 3
   },
   "file_extension": ".py",
   "mimetype": "text/x-python",
   "name": "python",
   "nbconvert_exporter": "python",
   "pygments_lexer": "ipython3",
   "version": "3.11.7"
  }
 },
 "nbformat": 4,
 "nbformat_minor": 5
}
